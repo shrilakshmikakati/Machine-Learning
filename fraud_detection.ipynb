{
 "cells": [
  {
   "cell_type": "code",
   "execution_count": 33,
   "id": "d3d9e6f0-3b83-4eeb-aee4-f01019e1deb9",
   "metadata": {},
   "outputs": [
    {
     "name": "stdout",
     "output_type": "stream",
     "text": [
      "Dataset shape: (9488, 9)\n",
      "\n",
      "First 5 rows:\n",
      "   TRANSACTION_ID          TX_DATETIME  CUSTOMER_ID  TERMINAL_ID  TX_AMOUNT  \\\n",
      "0               0  2018-04-01 00:00:31          596         3156      57.16   \n",
      "1               1  2018-04-01 00:02:10         4961         3412      81.51   \n",
      "2               2  2018-04-01 00:07:56            2         1365     146.00   \n",
      "3               3  2018-04-01 00:09:29         4128         8737      64.49   \n",
      "4               4  2018-04-01 00:10:34          927         9906      50.99   \n",
      "\n",
      "   TX_TIME_SECONDS  TX_TIME_DAYS  TX_FRAUD  TX_FRAUD_SCENARIO  \n",
      "0               31             0         0                  0  \n",
      "1              130             0         0                  0  \n",
      "2              476             0         0                  0  \n",
      "3              569             0         0                  0  \n",
      "4              634             0         0                  0  \n",
      "\n",
      "Detected anomalies (potential frauds): 95\n",
      "Percentage of transactions flagged: 1.00%\n",
      "\n",
      "Actual fraud statistics:\n",
      "Number of fraudulent transactions: 3\n",
      "Percentage of fraudulent transactions: 0.03%\n",
      "\n",
      "Percentage of frauds detected: 100.00%\n",
      "Potential new frauds detected: 92\n",
      "\n",
      "CONCLUSION: This dataset CONTAINS potential fraudulent transactions.\n"
     ]
    }
   ],
   "source": [
    "# Simplest Possible Fraud Detection\n",
    "\n",
    "import pandas as pd\n",
    "import numpy as np\n",
    "from sklearn.model_selection import train_test_split\n",
    "from sklearn.ensemble import IsolationForest\n",
    "\n",
    "# Load the dataset\n",
    "df = pd.read_csv(r\"C:\\Users\\SHRILAKSHMI\\OneDrive\\Desktop\\python projects\\Fraud_Detection\\fraud_detection\\fraud_detection\\data\\csv_output\\2018-04-01.csv\")\n",
    "\n",
    "# Print basic information\n",
    "print(\"Dataset shape:\", df.shape)\n",
    "print(\"\\nFirst 5 rows:\")\n",
    "print(df.head())\n",
    "\n",
    "# Simple approach: Use Isolation Forest for anomaly detection\n",
    "# This assumes frauds are anomalies in the transaction patterns\n",
    "\n",
    "# Select only numerical features\n",
    "features = ['TX_AMOUNT', 'TX_TIME_SECONDS', 'TX_TIME_DAYS']\n",
    "X = df[features].values\n",
    "\n",
    "# Train isolation forest model\n",
    "model = IsolationForest(contamination=0.01, random_state=42)\n",
    "model.fit(X)\n",
    "\n",
    "# Predict anomalies\n",
    "# The model returns 1 for normal, -1 for anomalies\n",
    "predictions = model.predict(X)\n",
    "anomaly_scores = model.decision_function(X)\n",
    "\n",
    "# Add results to dataframe\n",
    "df['anomaly'] = np.where(predictions == -1, 1, 0)  # 1 if anomaly, 0 if normal\n",
    "\n",
    "# Evaluate results\n",
    "print(\"\\nDetected anomalies (potential frauds):\", df['anomaly'].sum())\n",
    "print(f\"Percentage of transactions flagged: {df['anomaly'].mean() * 100:.2f}%\")\n",
    "\n",
    "# If we have the actual fraud labels, we can compare\n",
    "if 'TX_FRAUD' in df.columns:\n",
    "    print(\"\\nActual fraud statistics:\")\n",
    "    print(\"Number of fraudulent transactions:\", df['TX_FRAUD'].sum())\n",
    "    print(f\"Percentage of fraudulent transactions: {df['TX_FRAUD'].mean() * 100:.2f}%\")\n",
    "    \n",
    "    # Calculate hit rate (how many actual frauds were detected)\n",
    "    hits = ((df['anomaly'] == 1) & (df['TX_FRAUD'] == 1)).sum()\n",
    "    if df['TX_FRAUD'].sum() > 0:\n",
    "        hit_rate = hits / df['TX_FRAUD'].sum()\n",
    "        print(f\"\\nPercentage of frauds detected: {hit_rate * 100:.2f}%\")\n",
    "    \n",
    "    # Check if our unsupervised model found actual frauds that weren't labeled\n",
    "    potential_new_frauds = ((df['anomaly'] == 1) & (df['TX_FRAUD'] == 0)).sum()\n",
    "    print(f\"Potential new frauds detected: {potential_new_frauds}\")\n",
    "\n",
    "# Conclusion\n",
    "if df['anomaly'].sum() > 0:\n",
    "    print(\"\\nCONCLUSION: This dataset CONTAINS potential fraudulent transactions.\")\n",
    "else:\n",
    "    print(\"\\nCONCLUSION: No potential fraudulent transactions detected in this dataset.\")\n"
   ]
  },
  {
   "cell_type": "code",
   "execution_count": null,
   "id": "af244119-4e51-4f0a-95dd-c05af83a7652",
   "metadata": {},
   "outputs": [],
   "source": [
    "# Load the dataset\n",
    "df = pd.read_csv(r\"C:\\Users\\SHRILAKSHMI\\OneDrive\\Desktop\\python projects\\Fraud_Detection\\fraud_detection\\fraud_detection\\data\\csv_output\\2018-04-01.csv\")\n"
   ]
  },
  {
   "cell_type": "code",
   "execution_count": null,
   "id": "84460f2a-5022-4ae5-9041-8f21a74a4420",
   "metadata": {},
   "outputs": [],
   "source": [
    "# Print basic information\n",
    "print(\"Dataset shape:\", df.shape)\n",
    "print(\"\\nFirst 5 rows:\")\n",
    "print(df.head())"
   ]
  },
  {
   "cell_type": "code",
   "execution_count": null,
   "id": "9fc8c04c-67ed-4697-b8ba-0571872f0ef2",
   "metadata": {},
   "outputs": [],
   "source": [
    "# Select only numerical features\n",
    "features = ['TX_AMOUNT', 'TX_TIME_SECONDS', 'TX_TIME_DAYS']\n",
    "X = df[features].values"
   ]
  },
  {
   "cell_type": "code",
   "execution_count": null,
   "id": "3c9e24eb-dc55-41a8-8d04-dd76928595b6",
   "metadata": {},
   "outputs": [],
   "source": [
    "# Train isolation forest model\n",
    "model = IsolationForest(contamination=0.01, random_state=42)\n",
    "model.fit(X)\n"
   ]
  },
  {
   "cell_type": "code",
   "execution_count": null,
   "id": "3c69a319-acbd-45a1-9e5c-e75f44195217",
   "metadata": {},
   "outputs": [],
   "source": [
    "# The model returns 1 for normal, -1 for anomalies\n",
    "predictions = model.predict(X)\n",
    "anomaly_scores = model.decision_function(X)"
   ]
  },
  {
   "cell_type": "code",
   "execution_count": null,
   "id": "4e07661e-9627-468e-9160-386d7e6810c5",
   "metadata": {},
   "outputs": [],
   "source": [
    "# Add results to dataframe\n",
    "df['anomaly'] = np.where(predictions == -1, 1, 0)  # 1 if anomaly, 0 if normal\n"
   ]
  },
  {
   "cell_type": "code",
   "execution_count": null,
   "id": "2649ee45-1e3c-465a-8ce1-5e398cf548e8",
   "metadata": {},
   "outputs": [],
   "source": [
    "# Evaluate results\n",
    "print(\"\\nDetected anomalies (potential frauds):\", df['anomaly'].sum())\n",
    "print(f\"Percentage of transactions flagged: {df['anomaly'].mean() * 100:.2f}%\")"
   ]
  },
  {
   "cell_type": "code",
   "execution_count": null,
   "id": "9b981931-329c-44cc-b145-9b828d378e88",
   "metadata": {},
   "outputs": [],
   "source": [
    "# If we have the actual fraud labels, we can compare\n",
    "if 'TX_FRAUD' in df.columns:\n",
    "    print(\"\\nActual fraud statistics:\")\n",
    "    print(\"Number of fraudulent transactions:\", df['TX_FRAUD'].sum())\n",
    "    print(f\"Percentage of fraudulent transactions: {df['TX_FRAUD'].mean() * 100:.2f}%\")\n",
    "\n",
    "     # Calculate hit rate (how many actual frauds were detected)\n",
    "    hits = ((df['anomaly'] == 1) & (df['TX_FRAUD'] == 1)).sum()\n",
    "    if df['TX_FRAUD'].sum() > 0:\n",
    "        hit_rate = hits / df['TX_FRAUD'].sum()\n",
    "        print(f\"\\nPercentage of frauds detected: {hit_rate * 100:.2f}%\")\n",
    "    \n",
    "    # Check if our unsupervised model found actual frauds that weren't labeled\n",
    "    potential_new_frauds = ((df['anomaly'] == 1) & (df['TX_FRAUD'] == 0)).sum()\n",
    "    print(f\"Potential new frauds detected: {potential_new_frauds}\")"
   ]
  },
  {
   "cell_type": "code",
   "execution_count": null,
   "id": "2c4ee0d0-2c98-440e-a6a9-6688567fe0a7",
   "metadata": {},
   "outputs": [],
   "source": []
  },
  {
   "cell_type": "code",
   "execution_count": null,
   "id": "4ca01162-c80b-45bf-aca7-fc0163f7a488",
   "metadata": {},
   "outputs": [],
   "source": []
  }
 ],
 "metadata": {
  "kernelspec": {
   "display_name": "Python 3 (ipykernel)",
   "language": "python",
   "name": "python3"
  },
  "language_info": {
   "codemirror_mode": {
    "name": "ipython",
    "version": 3
   },
   "file_extension": ".py",
   "mimetype": "text/x-python",
   "name": "python",
   "nbconvert_exporter": "python",
   "pygments_lexer": "ipython3",
   "version": "3.12.7"
  }
 },
 "nbformat": 4,
 "nbformat_minor": 5
}
